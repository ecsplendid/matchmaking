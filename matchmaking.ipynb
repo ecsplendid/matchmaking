{
 "cells": [
  {
   "cell_type": "markdown",
   "metadata": {
    "deletable": true,
    "editable": true
   },
   "source": [
    "First of all read about the assignment problem; https://en.wikipedia.org/wiki/Assignment_problem we are modelling players as agents and jobs\n",
    "\n",
    "Here is the example from [https://docs.scipy.org/doc/scipy-0.18.1/reference/generated/scipy.optimize.linear_sum_assignment.html] but this one is confusing for two reasons\n",
    "\n",
    "* the assignments are not symmetric\n",
    "* it is possible for a player to play himself. \n",
    "\n",
    "But it finds us the minimum cost assignment using the hungarian algorithm and even tells us the sum of the cost, which is 5"
   ]
  },
  {
   "cell_type": "code",
   "execution_count": 8,
   "metadata": {
    "collapsed": false,
    "deletable": true,
    "editable": true
   },
   "outputs": [
    {
     "name": "stdout",
     "output_type": "stream",
     "text": [
      "[1 0 2]\n",
      "[0 1 2]\n"
     ]
    },
    {
     "data": {
      "text/plain": [
       "5"
      ]
     },
     "execution_count": 8,
     "metadata": {},
     "output_type": "execute_result"
    }
   ],
   "source": [
    "import numpy as np\n",
    "\n",
    "cost = np.array([[4, 1, 3], \n",
    "                 [2, 0, 5], \n",
    "                 [3, 2, 2]])\n",
    "\n",
    "\n",
    "from scipy.optimize import linear_sum_assignment\n",
    "\n",
    "row_ind, col_ind = linear_sum_assignment(cost)\n",
    "\n",
    "print( col_ind )\n",
    "print( row_ind )\n",
    "\n",
    "cost[row_ind, col_ind].sum()"
   ]
  },
  {
   "cell_type": "markdown",
   "metadata": {
    "deletable": true,
    "editable": true
   },
   "source": [
    "Let's do the same thing again but using something more akin to gaming \n",
    "\n",
    "\n",
    "![alt text](https://lh3.googleusercontent.com/MqTo6lYnEr7Q_qrXDvbyDRRcQXapA4NTArdwcqYsq10dWaRHcK3Oduezi0BMrth6IQt5kVPxv_DQgYq_ByBzPTbGuLlstRT7TYsEK9qwzksIZ17h5z1UetDtCl8Se2q3qf1hJBiJxssLmzZnsQqIM-Fw6qVWh4lHbrmRq2pPO2uZeBYVXRdp4nHHLMkYirh_VwhgIGapcYFH56hVee5akZEwUlXKm9T4BB24nJ0rDlA_H1_1tDjAi6O59JYPsw0CeUjDCsK4hWXDIi-r5JgFdLYSdaNcgdGaCsEUP_OrKTBbseNrcbiOfl1NeqFUAA5wG93hbJBo6C0g6WChPAm3BSWcQerXy76noxxSR_HcRDqx5w8VuPqsrA-QxRHYmzkF345945paVYoZmqoG5ZUDqNbJYoPeRoe0W6cgLdGIQPmRx1PnlM2nrwzFM4tlKmlwt8kzgFIBxROsULHTZRxsbPFNX1XY93qn11QvjzYa3EmeJJbx50l0BU1-Wc5kiGGD4jHOyyvOLTmEZX9ngPqWRsFrVdjKtzQMaO_mc23ciBax6-NWxA1joNi9PaqbLOpNtWJ15DlLCYfG3TjDO1Qo3vzEK9V6kRMLtg=w1027-h991-no \"Logo Title Text 1\")"
   ]
  },
  {
   "cell_type": "code",
   "execution_count": 4,
   "metadata": {
    "collapsed": false,
    "deletable": true,
    "editable": true
   },
   "outputs": [
    {
     "name": "stdout",
     "output_type": "stream",
     "text": [
      "[1 2 0]\n",
      "[0 1 2]\n"
     ]
    },
    {
     "data": {
      "text/plain": [
       "18.0"
      ]
     },
     "execution_count": 4,
     "metadata": {},
     "output_type": "execute_result"
    }
   ],
   "source": [
    "import numpy as np\n",
    "import math\n",
    "\n",
    "cost = np.array([[math.inf, 5, 10], \n",
    "                 [5, math.inf, 3], \n",
    "                 [10, 3, math.inf]])\n",
    "\n",
    "\n",
    "from scipy.optimize import linear_sum_assignment\n",
    "\n",
    "row_ind, col_ind = linear_sum_assignment(cost)\n",
    "\n",
    "print( col_ind )\n",
    "print( row_ind )\n",
    "\n",
    "cost[row_ind, col_ind].sum()"
   ]
  },
  {
   "cell_type": "markdown",
   "metadata": {
    "deletable": true,
    "editable": true
   },
   "source": [
    "OK, getting there, but notice that it's still assigned player 3 against itself, see https://en.wikipedia.org/wiki/Assignment_problem we are modelling people as both agents and jobs, so there is nothing stopping it from assigning agent 3 to job 3 (person 3 to person 3) even though the cost was infinite, there was no other option because there are an ODD number of people!\n",
    "\n",
    "Lets do the same thing with 4 people;"
   ]
  },
  {
   "cell_type": "code",
   "execution_count": 5,
   "metadata": {
    "collapsed": false,
    "deletable": true,
    "editable": true
   },
   "outputs": [
    {
     "name": "stdout",
     "output_type": "stream",
     "text": [
      "[3 2 1 0]\n",
      "[0 1 2 3]\n"
     ]
    },
    {
     "data": {
      "text/plain": [
       "12.0"
      ]
     },
     "execution_count": 5,
     "metadata": {},
     "output_type": "execute_result"
    }
   ],
   "source": [
    "import numpy as np\n",
    "import math\n",
    "\n",
    "cost = np.array([[math.inf, 5, 10, 3], \n",
    "                 [5, math.inf, 3, 1], \n",
    "                 [10, 3, math.inf, 5],\n",
    "                  [3, 1,  5, math.inf]])\n",
    "\n",
    "\n",
    "from scipy.optimize import linear_sum_assignment\n",
    "\n",
    "row_ind, col_ind = linear_sum_assignment(cost)\n",
    "\n",
    "print( col_ind )\n",
    "print( row_ind )\n",
    "\n",
    "cost[row_ind, col_ind].sum()"
   ]
  },
  {
   "cell_type": "markdown",
   "metadata": {
    "deletable": true,
    "editable": true
   },
   "source": [
    "\n",
    "\n",
    "![alt text](https://lh3.googleusercontent.com/lti7GIAmznGf9H8G7yaI8_C99harkDbfzma_UzWDxPGE2M26pa0yKW9T2nYpgQubMnE1KKhMnT-_9ufLGnAW8TGMOrup7qX8vxBLAU_4zdYHwnKRmQGzQrJDZmXJiEtSFh1ebu3okB7V9jz8ZaNvfNo3maJSBSDiNMgl0SoefjhRgEirHSj8jx9Mb01_mfROKDYTQWnueNSVHEsPpLsvJvyqbEJzv9vlLAwchz8T3wYtxMfU4OZk2u4F7_ZGX4en1DxUlRGqwmxNa5O9Hc4hCVa4TSBWN2bCWOSu2N1UHKVzwGfYJhhfSkgH9h_FMEsIjm93LptKuvAdXpdyh7Y-yZKiM6ujwV5mAPCi4MCEHmWJcWuZNxnssF34pwTGVWV2g6pijgDeKra1-aQZPgChch3J5VLIAV2gnnKi6aozGD1KVpe-0fWF8Mo5-DmCQIT5MmrZnbZFIWBFMwLUkrtCTDbv92z3_SPHUXdeAp1Y4ExisOJMLYF32jtOCxLWy6vaokeTNZHR4u1jOPfjkz9zyqGGXnpZhhnEcTxFu-2FU1Ck8Kfi0y_qa-KlMRrtYjv2XBflYHSrugMJYvc78mp6EnfTyf0V34cNhA=w777-h686-no \"Logo Title Text 1\")\n",
    "\n",
    "So this algorithm is saying that;\n",
    "\n",
    "* Person 1 should play person 4\n",
    "* Person 4 should play person 1 (note the symmetry)\n",
    "\n",
    "and.. \n",
    "\n",
    "* Person 2 should play person 3  \n",
    "* Person 3 should play person 2 (note the symmetry)"
   ]
  },
  {
   "cell_type": "code",
   "execution_count": null,
   "metadata": {
    "collapsed": true,
    "deletable": true,
    "editable": true
   },
   "outputs": [],
   "source": []
  }
 ],
 "metadata": {
  "kernelspec": {
   "display_name": "Python 3",
   "language": "python",
   "name": "python3"
  },
  "language_info": {
   "codemirror_mode": {
    "name": "ipython",
    "version": 3
   },
   "file_extension": ".py",
   "mimetype": "text/x-python",
   "name": "python",
   "nbconvert_exporter": "python",
   "pygments_lexer": "ipython3",
   "version": "3.5.2"
  }
 },
 "nbformat": 4,
 "nbformat_minor": 2
}
