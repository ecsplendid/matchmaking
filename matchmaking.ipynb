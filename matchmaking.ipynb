{
  "cells": [
    {
      "metadata": {},
      "cell_type": "markdown",
      "source": "First of all read about the assignment problem; https://en.wikipedia.org/wiki/Assignment_problem we are modelling players as agents and jobs\n\nHere is the example from [https://docs.scipy.org/doc/scipy-0.18.1/reference/generated/scipy.optimize.linear_sum_assignment.html] but this one is confusing for two reasons\n\n* the assignments are not symmetric\n* it is possible for a player to play himself. \n\nBut it finds us the minimum cost assignment using the hungarian algorithm and even tells us the sum of the cost, which is 5"
    },
    {
      "metadata": {
        "trusted": true
      },
      "cell_type": "code",
      "source": "import numpy as np\n\ncost = np.array([[4, 1, 3], \n                 [2, 0, 5], \n                 [3, 2, 2]])\n\n\nfrom scipy.optimize import linear_sum_assignment\n\nrow_ind, col_ind = linear_sum_assignment(cost)\n\nprint( col_ind )\nprint( row_ind )\n\ncost[row_ind, col_ind].sum()",
      "execution_count": 8,
      "outputs": [
        {
          "output_type": "stream",
          "text": "[1 0 2]\n[0 1 2]\n",
          "name": "stdout"
        },
        {
          "output_type": "execute_result",
          "execution_count": 8,
          "data": {
            "text/plain": "5"
          },
          "metadata": {}
        }
      ]
    },
    {
      "metadata": {},
      "cell_type": "markdown",
      "source": "Let's do the same thing again but using something more akin to gaming \n\n\n![alt textdsadsa](https://lh3.googleusercontent.com/xFo-YSvknFO2fwEH_RQ9Bs_enHuQaMIqjxfJok6ZgpGbFqWGjsViYo4I1o7KBr6SpkoYStL_0Wd0fkQmhNiQPugSZofRizpHVmY8ccRpOPG4LjBEmsB3xXefSsisNY4CSczU8gDDiU3AKoc6L7En92TtHet0pS7ymW5xm_cds3aVjob7AFGCMhTuaVS8H60TlTnonOiTo-N6sPv5Di7tji9hYMQg4_2P_t-k_Ql2HIsnlm4Cus3tZDt4Vn65o69QXX31RGI6a0c_6UXofyy2n32K3g6NKyok4JF1g11tBFnYXDqURuKXqQ01R0IFms8fXHkNRVCUXvTNw0P8BDc0QnwPfQCfjuSrxKCKA_yru6FRmr-wU1udnY_TPeEh0MO4cOqsW1UzzRVK1KzVFv1hghPXGvg5spXMTOTxyFh9sUGUcu5hUbfjRIoQivzZEglE0h-qzp63g7dyW7s2OD4Boe-nh-zYj7vKk5ZrGg4699UMNwm-27XPzsM95UNJb7ndgGfpONiSrgiBwZwfq6pwffZseYQkzvzrNVebooIzgDjZ5cW2Rkxj8UYvTyJRe1-j6bfk-JYN6E4x8K1ttouJiDCE_Jx1admJNDHB1j0g0ZCVMMLyH3kPZisPpgYgdwxHUMpC0nrS3ajNCqPvb0oBVwgxSmg=w1027-h991-no \"Logo Title Text dsadsa\")"
    },
    {
      "metadata": {
        "trusted": true
      },
      "cell_type": "code",
      "source": "import numpy as np\nimport math\n\ncost = np.array([[math.inf, 5, 10], \n                 [5, math.inf, 3], \n                 [10, 3, math.inf]])\n\n\nfrom scipy.optimize import linear_sum_assignment\n\nrow_ind, col_ind = linear_sum_assignment(cost)\n\nprint( col_ind )\nprint( row_ind )\n\ncost[row_ind, col_ind].sum()",
      "execution_count": 4,
      "outputs": [
        {
          "output_type": "stream",
          "text": "[1 2 0]\n[0 1 2]\n",
          "name": "stdout"
        },
        {
          "output_type": "execute_result",
          "execution_count": 4,
          "data": {
            "text/plain": "18.0"
          },
          "metadata": {}
        }
      ]
    },
    {
      "metadata": {},
      "cell_type": "markdown",
      "source": "\n![alt textdsssadsa](https://lh3.googleusercontent.com/wE6d506GBNZu4_0jcfZiTsnENsOgU8UxhiToObd45Syru6X69hZNT0aL-QoykUsLrMPX593I1McWIo5NMldVZXOLtMUqLmRteAxOaRelU8CagOVW93Aj7drHeUjraPDmNC3bR9xIzJCXtcqh6EGeLwsRRFEdoyD_pjo5B64T3KU9KKeCZfo72PXLu-XvuKDsCA7yoRRatqMaInFOj0Dskcmj2VBOvHDYD3bytAmx3IGdvSn4-JlMk486y1ebZBq4uHDhGSKiZryo8gVV_-1sTtI84cWmodFPZFyApz_G0WchkMWL0B-CzqPSh2E7kxzQrdlPe5E-ZNuKy04kGgFX4koxzL6gjId5QRf0pG0pwulwvWZo1_pMfzQdVbhQB8BaTn1EnE-fjdnmR2-EaRF6nAqnFZdHp-PC92bGHViCYjkF82sGdE0MLPSvKwWgTWNjHazgZ3y9wff6b0-Mx1THLh8VJypodc8VLAwnOLcIBQ6sTGT0orO-pmP-LGVya2LscPaVvS8lBliFidKMuG7Ne2T-TmmeDf44z39iCNY4Tj23j7Xgt3NJkz0EStScgY5efAWIKSXOHq0QoN14RTb9LmIth8YWBQ9IvG8wY2zYD_oNg1GVPecDDqTIsNHR8ZSKLyvEUaWmi9VZjIIoIZHLYZWwfIY=w991-h758-no \"Logo Title Text ssdsadsa\")\n\n\n\n\nOK, getting there, but notice that it's doing something very weird player 3 is getting 2 games (hes playing p1 and p2). This is weird because the assignment problem should assign only 1 thing i.e. \"It is required to perform all tasks by assigning exactly one agent to each task and exactly one task to each agent in such a way that the total cost of the assignment is minimized.\" I can only assume this is because of the hungarian algorithm, and if the assignment LP was calculated directly it would fail for a matrix with an odd number i.e. 3x3\n\nSo let's try with a 4x4\n"
    },
    {
      "metadata": {
        "trusted": true
      },
      "cell_type": "code",
      "source": "",
      "execution_count": null,
      "outputs": []
    },
    {
      "metadata": {
        "trusted": true
      },
      "cell_type": "code",
      "source": "import numpy as np\nimport math\n\ncost = np.array([[math.inf, 5, 10, 3], \n                 [5, math.inf, 3, 1], \n                 [10, 3, math.inf, 5],\n                  [3, 1,  5, math.inf]])\n\n\nfrom scipy.optimize import linear_sum_assignment\n\nrow_ind, col_ind = linear_sum_assignment(cost)\n\nprint( col_ind )\nprint( row_ind )\n\ncost[row_ind, col_ind].sum()",
      "execution_count": 5,
      "outputs": [
        {
          "output_type": "stream",
          "text": "[3 2 1 0]\n[0 1 2 3]\n",
          "name": "stdout"
        },
        {
          "output_type": "execute_result",
          "execution_count": 5,
          "data": {
            "text/plain": "12.0"
          },
          "metadata": {}
        }
      ]
    },
    {
      "metadata": {},
      "cell_type": "markdown",
      "source": "\n\n![alt text](https://lh3.googleusercontent.com/lti7GIAmznGf9H8G7yaI8_C99harkDbfzma_UzWDxPGE2M26pa0yKW9T2nYpgQubMnE1KKhMnT-_9ufLGnAW8TGMOrup7qX8vxBLAU_4zdYHwnKRmQGzQrJDZmXJiEtSFh1ebu3okB7V9jz8ZaNvfNo3maJSBSDiNMgl0SoefjhRgEirHSj8jx9Mb01_mfROKDYTQWnueNSVHEsPpLsvJvyqbEJzv9vlLAwchz8T3wYtxMfU4OZk2u4F7_ZGX4en1DxUlRGqwmxNa5O9Hc4hCVa4TSBWN2bCWOSu2N1UHKVzwGfYJhhfSkgH9h_FMEsIjm93LptKuvAdXpdyh7Y-yZKiM6ujwV5mAPCi4MCEHmWJcWuZNxnssF34pwTGVWV2g6pijgDeKra1-aQZPgChch3J5VLIAV2gnnKi6aozGD1KVpe-0fWF8Mo5-DmCQIT5MmrZnbZFIWBFMwLUkrtCTDbv92z3_SPHUXdeAp1Y4ExisOJMLYF32jtOCxLWy6vaokeTNZHR4u1jOPfjkz9zyqGGXnpZhhnEcTxFu-2FU1Ck8Kfi0y_qa-KlMRrtYjv2XBflYHSrugMJYvc78mp6EnfTyf0V34cNhA=w777-h686-no \"Logo Title Text 1\")\n\nSo this algorithm is saying that;\n\n* Person 1 should play person 4\n* Person 4 should play person 1 (note the symmetry)\n\nand.. \n\n* Person 2 should play person 3  \n* Person 3 should play person 2 (note the symmetry)"
    },
    {
      "metadata": {
        "trusted": true
      },
      "cell_type": "code",
      "source": "",
      "execution_count": null,
      "outputs": []
    }
  ],
  "metadata": {
    "kernelspec": {
      "name": "python36",
      "display_name": "Python 3.6",
      "language": "python"
    },
    "language_info": {
      "mimetype": "text/x-python",
      "nbconvert_exporter": "python",
      "name": "python",
      "pygments_lexer": "ipython3",
      "version": "3.6.3",
      "file_extension": ".py",
      "codemirror_mode": {
        "version": 3,
        "name": "ipython"
      }
    }
  },
  "nbformat": 4,
  "nbformat_minor": 2
}